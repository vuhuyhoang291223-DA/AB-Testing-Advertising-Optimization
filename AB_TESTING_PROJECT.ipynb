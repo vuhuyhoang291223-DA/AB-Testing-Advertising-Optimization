{
  "nbformat": 4,
  "nbformat_minor": 0,
  "metadata": {
    "colab": {
      "provenance": [],
      "toc_visible": true
    },
    "kernelspec": {
      "name": "python3",
      "display_name": "Python 3"
    },
    "language_info": {
      "name": "python"
    }
  },
  "cells": [
    {
      "cell_type": "markdown",
      "source": [
        "**A/B Testing trong Marketing**\n",
        "\n",
        "Một công ty đang muốn xác định hiệu quả của các chiến dịch quảng cáo đã tiến hành A/B Testing, một phương pháp phổ biến trong nghiên cứu thị trường.\n",
        "- Nhóm thử nghiệm (AD): Phần lớn người dùng được tiếp xúc với quảng cáo.\n",
        "- Nhóm đối chứng (PSA): Một nhóm nhỏ hơn chỉ thấy Quảng Cáo Dịch Vụ Công Cộng hoặc không thấy nội dung gì ở vị trí quảng cáo.\n",
        "\n",
        "**Mục tiêu phân tích:**\n",
        "- Xác định xem quảng cáo có thực sự hiệu quả không bằng cách đo lường và so sánh Tỷ lệ chuyển đổi (conversion rate) giữa hai nhóm.\n",
        "- Xem xét sự khác biệt thống kê giữa hai nhóm, để đảm bảo rằng bất kỳ khác biệt nào được phát hiện không phải là ngẫu nhiên.\n",
        "\n",
        "\n",
        "---\n",
        "\n",
        "\n",
        "\n",
        "**Cấu trúc bài phân tích:**\n",
        "- Kiểm định giả thuyết về mối liên hệ giữa việc chạy quảng cáo và tỷ lệ chuyển đổi:\n",
        "  - **Chi-square test for independence**\n",
        "  - **Welch's t-test**\n",
        "- Kiểm định giả thuyết về sự khác biệt giữa tỷ lệ chuyển đổI giữa nhóm thử nghiệm (experimental group) và nhóm đối chứng (control group)\n",
        "  - **Hypothesis Testing With Two Proportions**\n",
        "\n"
      ],
      "metadata": {
        "id": "12byKhKc_FtF"
      }
    },
    {
      "cell_type": "code",
      "source": [
        "#  import thư viện\n",
        "import pandas as pd\n",
        "import numpy as np\n",
        "import matplotlib.pyplot as plt\n",
        "import seaborn as sns\n",
        "import scipy.stats as stats"
      ],
      "metadata": {
        "id": "LMbkHdEnBbCa"
      },
      "execution_count": 1,
      "outputs": []
    },
    {
      "cell_type": "code",
      "source": [
        "# kết nối GGDrive\n",
        "from  google.colab import drive\n",
        "drive.mount('/content/drive')"
      ],
      "metadata": {
        "colab": {
          "base_uri": "https://localhost:8080/"
        },
        "id": "q9UU-mdnAq1Z",
        "outputId": "599d1d05-1cdf-4a73-940a-78f014b19e62"
      },
      "execution_count": 2,
      "outputs": [
        {
          "output_type": "stream",
          "name": "stdout",
          "text": [
            "Mounted at /content/drive\n"
          ]
        }
      ]
    },
    {
      "cell_type": "code",
      "source": [
        "# load data\n",
        "df_ab = pd.read_csv('/content/drive/MyDrive/PYTHON/Project/AB_Test/marketing_AB_.csv')"
      ],
      "metadata": {
        "id": "ugxKO7KZAqnR"
      },
      "execution_count": 3,
      "outputs": []
    },
    {
      "cell_type": "markdown",
      "source": [
        "# **1. Clean Dataset**"
      ],
      "metadata": {
        "id": "dShqK74JDVeW"
      }
    },
    {
      "cell_type": "code",
      "source": [
        "df_ab.head()"
      ],
      "metadata": {
        "colab": {
          "base_uri": "https://localhost:8080/",
          "height": 206
        },
        "id": "G8uKgNitCaSE",
        "outputId": "39e42bdd-f860-4ada-9e28-54f1fafb0b34"
      },
      "execution_count": 4,
      "outputs": [
        {
          "output_type": "execute_result",
          "data": {
            "text/plain": [
              "   Unnamed: 0  user id test group  converted  total ads most ads day  \\\n",
              "0           0  1069124         ad      False        130       Monday   \n",
              "1           1  1119715         ad      False         93      Tuesday   \n",
              "2           2  1144181         ad      False         21      Tuesday   \n",
              "3           3  1435133         ad      False        355      Tuesday   \n",
              "4           4  1015700         ad      False        276       Friday   \n",
              "\n",
              "   most ads hour  \n",
              "0             20  \n",
              "1             22  \n",
              "2             18  \n",
              "3             10  \n",
              "4             14  "
            ],
            "text/html": [
              "\n",
              "  <div id=\"df-6cd3a278-4030-4974-b55e-d56380cc5e60\" class=\"colab-df-container\">\n",
              "    <div>\n",
              "<style scoped>\n",
              "    .dataframe tbody tr th:only-of-type {\n",
              "        vertical-align: middle;\n",
              "    }\n",
              "\n",
              "    .dataframe tbody tr th {\n",
              "        vertical-align: top;\n",
              "    }\n",
              "\n",
              "    .dataframe thead th {\n",
              "        text-align: right;\n",
              "    }\n",
              "</style>\n",
              "<table border=\"1\" class=\"dataframe\">\n",
              "  <thead>\n",
              "    <tr style=\"text-align: right;\">\n",
              "      <th></th>\n",
              "      <th>Unnamed: 0</th>\n",
              "      <th>user id</th>\n",
              "      <th>test group</th>\n",
              "      <th>converted</th>\n",
              "      <th>total ads</th>\n",
              "      <th>most ads day</th>\n",
              "      <th>most ads hour</th>\n",
              "    </tr>\n",
              "  </thead>\n",
              "  <tbody>\n",
              "    <tr>\n",
              "      <th>0</th>\n",
              "      <td>0</td>\n",
              "      <td>1069124</td>\n",
              "      <td>ad</td>\n",
              "      <td>False</td>\n",
              "      <td>130</td>\n",
              "      <td>Monday</td>\n",
              "      <td>20</td>\n",
              "    </tr>\n",
              "    <tr>\n",
              "      <th>1</th>\n",
              "      <td>1</td>\n",
              "      <td>1119715</td>\n",
              "      <td>ad</td>\n",
              "      <td>False</td>\n",
              "      <td>93</td>\n",
              "      <td>Tuesday</td>\n",
              "      <td>22</td>\n",
              "    </tr>\n",
              "    <tr>\n",
              "      <th>2</th>\n",
              "      <td>2</td>\n",
              "      <td>1144181</td>\n",
              "      <td>ad</td>\n",
              "      <td>False</td>\n",
              "      <td>21</td>\n",
              "      <td>Tuesday</td>\n",
              "      <td>18</td>\n",
              "    </tr>\n",
              "    <tr>\n",
              "      <th>3</th>\n",
              "      <td>3</td>\n",
              "      <td>1435133</td>\n",
              "      <td>ad</td>\n",
              "      <td>False</td>\n",
              "      <td>355</td>\n",
              "      <td>Tuesday</td>\n",
              "      <td>10</td>\n",
              "    </tr>\n",
              "    <tr>\n",
              "      <th>4</th>\n",
              "      <td>4</td>\n",
              "      <td>1015700</td>\n",
              "      <td>ad</td>\n",
              "      <td>False</td>\n",
              "      <td>276</td>\n",
              "      <td>Friday</td>\n",
              "      <td>14</td>\n",
              "    </tr>\n",
              "  </tbody>\n",
              "</table>\n",
              "</div>\n",
              "    <div class=\"colab-df-buttons\">\n",
              "\n",
              "  <div class=\"colab-df-container\">\n",
              "    <button class=\"colab-df-convert\" onclick=\"convertToInteractive('df-6cd3a278-4030-4974-b55e-d56380cc5e60')\"\n",
              "            title=\"Convert this dataframe to an interactive table.\"\n",
              "            style=\"display:none;\">\n",
              "\n",
              "  <svg xmlns=\"http://www.w3.org/2000/svg\" height=\"24px\" viewBox=\"0 -960 960 960\">\n",
              "    <path d=\"M120-120v-720h720v720H120Zm60-500h600v-160H180v160Zm220 220h160v-160H400v160Zm0 220h160v-160H400v160ZM180-400h160v-160H180v160Zm440 0h160v-160H620v160ZM180-180h160v-160H180v160Zm440 0h160v-160H620v160Z\"/>\n",
              "  </svg>\n",
              "    </button>\n",
              "\n",
              "  <style>\n",
              "    .colab-df-container {\n",
              "      display:flex;\n",
              "      gap: 12px;\n",
              "    }\n",
              "\n",
              "    .colab-df-convert {\n",
              "      background-color: #E8F0FE;\n",
              "      border: none;\n",
              "      border-radius: 50%;\n",
              "      cursor: pointer;\n",
              "      display: none;\n",
              "      fill: #1967D2;\n",
              "      height: 32px;\n",
              "      padding: 0 0 0 0;\n",
              "      width: 32px;\n",
              "    }\n",
              "\n",
              "    .colab-df-convert:hover {\n",
              "      background-color: #E2EBFA;\n",
              "      box-shadow: 0px 1px 2px rgba(60, 64, 67, 0.3), 0px 1px 3px 1px rgba(60, 64, 67, 0.15);\n",
              "      fill: #174EA6;\n",
              "    }\n",
              "\n",
              "    .colab-df-buttons div {\n",
              "      margin-bottom: 4px;\n",
              "    }\n",
              "\n",
              "    [theme=dark] .colab-df-convert {\n",
              "      background-color: #3B4455;\n",
              "      fill: #D2E3FC;\n",
              "    }\n",
              "\n",
              "    [theme=dark] .colab-df-convert:hover {\n",
              "      background-color: #434B5C;\n",
              "      box-shadow: 0px 1px 3px 1px rgba(0, 0, 0, 0.15);\n",
              "      filter: drop-shadow(0px 1px 2px rgba(0, 0, 0, 0.3));\n",
              "      fill: #FFFFFF;\n",
              "    }\n",
              "  </style>\n",
              "\n",
              "    <script>\n",
              "      const buttonEl =\n",
              "        document.querySelector('#df-6cd3a278-4030-4974-b55e-d56380cc5e60 button.colab-df-convert');\n",
              "      buttonEl.style.display =\n",
              "        google.colab.kernel.accessAllowed ? 'block' : 'none';\n",
              "\n",
              "      async function convertToInteractive(key) {\n",
              "        const element = document.querySelector('#df-6cd3a278-4030-4974-b55e-d56380cc5e60');\n",
              "        const dataTable =\n",
              "          await google.colab.kernel.invokeFunction('convertToInteractive',\n",
              "                                                    [key], {});\n",
              "        if (!dataTable) return;\n",
              "\n",
              "        const docLinkHtml = 'Like what you see? Visit the ' +\n",
              "          '<a target=\"_blank\" href=https://colab.research.google.com/notebooks/data_table.ipynb>data table notebook</a>'\n",
              "          + ' to learn more about interactive tables.';\n",
              "        element.innerHTML = '';\n",
              "        dataTable['output_type'] = 'display_data';\n",
              "        await google.colab.output.renderOutput(dataTable, element);\n",
              "        const docLink = document.createElement('div');\n",
              "        docLink.innerHTML = docLinkHtml;\n",
              "        element.appendChild(docLink);\n",
              "      }\n",
              "    </script>\n",
              "  </div>\n",
              "\n",
              "\n",
              "<div id=\"df-ad693f12-7407-4475-972e-00851bb184e6\">\n",
              "  <button class=\"colab-df-quickchart\" onclick=\"quickchart('df-ad693f12-7407-4475-972e-00851bb184e6')\"\n",
              "            title=\"Suggest charts\"\n",
              "            style=\"display:none;\">\n",
              "\n",
              "<svg xmlns=\"http://www.w3.org/2000/svg\" height=\"24px\"viewBox=\"0 0 24 24\"\n",
              "     width=\"24px\">\n",
              "    <g>\n",
              "        <path d=\"M19 3H5c-1.1 0-2 .9-2 2v14c0 1.1.9 2 2 2h14c1.1 0 2-.9 2-2V5c0-1.1-.9-2-2-2zM9 17H7v-7h2v7zm4 0h-2V7h2v10zm4 0h-2v-4h2v4z\"/>\n",
              "    </g>\n",
              "</svg>\n",
              "  </button>\n",
              "\n",
              "<style>\n",
              "  .colab-df-quickchart {\n",
              "      --bg-color: #E8F0FE;\n",
              "      --fill-color: #1967D2;\n",
              "      --hover-bg-color: #E2EBFA;\n",
              "      --hover-fill-color: #174EA6;\n",
              "      --disabled-fill-color: #AAA;\n",
              "      --disabled-bg-color: #DDD;\n",
              "  }\n",
              "\n",
              "  [theme=dark] .colab-df-quickchart {\n",
              "      --bg-color: #3B4455;\n",
              "      --fill-color: #D2E3FC;\n",
              "      --hover-bg-color: #434B5C;\n",
              "      --hover-fill-color: #FFFFFF;\n",
              "      --disabled-bg-color: #3B4455;\n",
              "      --disabled-fill-color: #666;\n",
              "  }\n",
              "\n",
              "  .colab-df-quickchart {\n",
              "    background-color: var(--bg-color);\n",
              "    border: none;\n",
              "    border-radius: 50%;\n",
              "    cursor: pointer;\n",
              "    display: none;\n",
              "    fill: var(--fill-color);\n",
              "    height: 32px;\n",
              "    padding: 0;\n",
              "    width: 32px;\n",
              "  }\n",
              "\n",
              "  .colab-df-quickchart:hover {\n",
              "    background-color: var(--hover-bg-color);\n",
              "    box-shadow: 0 1px 2px rgba(60, 64, 67, 0.3), 0 1px 3px 1px rgba(60, 64, 67, 0.15);\n",
              "    fill: var(--button-hover-fill-color);\n",
              "  }\n",
              "\n",
              "  .colab-df-quickchart-complete:disabled,\n",
              "  .colab-df-quickchart-complete:disabled:hover {\n",
              "    background-color: var(--disabled-bg-color);\n",
              "    fill: var(--disabled-fill-color);\n",
              "    box-shadow: none;\n",
              "  }\n",
              "\n",
              "  .colab-df-spinner {\n",
              "    border: 2px solid var(--fill-color);\n",
              "    border-color: transparent;\n",
              "    border-bottom-color: var(--fill-color);\n",
              "    animation:\n",
              "      spin 1s steps(1) infinite;\n",
              "  }\n",
              "\n",
              "  @keyframes spin {\n",
              "    0% {\n",
              "      border-color: transparent;\n",
              "      border-bottom-color: var(--fill-color);\n",
              "      border-left-color: var(--fill-color);\n",
              "    }\n",
              "    20% {\n",
              "      border-color: transparent;\n",
              "      border-left-color: var(--fill-color);\n",
              "      border-top-color: var(--fill-color);\n",
              "    }\n",
              "    30% {\n",
              "      border-color: transparent;\n",
              "      border-left-color: var(--fill-color);\n",
              "      border-top-color: var(--fill-color);\n",
              "      border-right-color: var(--fill-color);\n",
              "    }\n",
              "    40% {\n",
              "      border-color: transparent;\n",
              "      border-right-color: var(--fill-color);\n",
              "      border-top-color: var(--fill-color);\n",
              "    }\n",
              "    60% {\n",
              "      border-color: transparent;\n",
              "      border-right-color: var(--fill-color);\n",
              "    }\n",
              "    80% {\n",
              "      border-color: transparent;\n",
              "      border-right-color: var(--fill-color);\n",
              "      border-bottom-color: var(--fill-color);\n",
              "    }\n",
              "    90% {\n",
              "      border-color: transparent;\n",
              "      border-bottom-color: var(--fill-color);\n",
              "    }\n",
              "  }\n",
              "</style>\n",
              "\n",
              "  <script>\n",
              "    async function quickchart(key) {\n",
              "      const quickchartButtonEl =\n",
              "        document.querySelector('#' + key + ' button');\n",
              "      quickchartButtonEl.disabled = true;  // To prevent multiple clicks.\n",
              "      quickchartButtonEl.classList.add('colab-df-spinner');\n",
              "      try {\n",
              "        const charts = await google.colab.kernel.invokeFunction(\n",
              "            'suggestCharts', [key], {});\n",
              "      } catch (error) {\n",
              "        console.error('Error during call to suggestCharts:', error);\n",
              "      }\n",
              "      quickchartButtonEl.classList.remove('colab-df-spinner');\n",
              "      quickchartButtonEl.classList.add('colab-df-quickchart-complete');\n",
              "    }\n",
              "    (() => {\n",
              "      let quickchartButtonEl =\n",
              "        document.querySelector('#df-ad693f12-7407-4475-972e-00851bb184e6 button');\n",
              "      quickchartButtonEl.style.display =\n",
              "        google.colab.kernel.accessAllowed ? 'block' : 'none';\n",
              "    })();\n",
              "  </script>\n",
              "</div>\n",
              "\n",
              "    </div>\n",
              "  </div>\n"
            ],
            "application/vnd.google.colaboratory.intrinsic+json": {
              "type": "dataframe",
              "variable_name": "df_ab"
            }
          },
          "metadata": {},
          "execution_count": 4
        }
      ]
    },
    {
      "cell_type": "code",
      "source": [
        "df_ab.info()"
      ],
      "metadata": {
        "colab": {
          "base_uri": "https://localhost:8080/"
        },
        "id": "u610RpjVCwGL",
        "outputId": "b87b434b-7026-4a7a-f010-6ba85817a552"
      },
      "execution_count": 5,
      "outputs": [
        {
          "output_type": "stream",
          "name": "stdout",
          "text": [
            "<class 'pandas.core.frame.DataFrame'>\n",
            "RangeIndex: 588101 entries, 0 to 588100\n",
            "Data columns (total 7 columns):\n",
            " #   Column         Non-Null Count   Dtype \n",
            "---  ------         --------------   ----- \n",
            " 0   Unnamed: 0     588101 non-null  int64 \n",
            " 1   user id        588101 non-null  int64 \n",
            " 2   test group     588101 non-null  object\n",
            " 3   converted      588101 non-null  bool  \n",
            " 4   total ads      588101 non-null  int64 \n",
            " 5   most ads day   588101 non-null  object\n",
            " 6   most ads hour  588101 non-null  int64 \n",
            "dtypes: bool(1), int64(4), object(2)\n",
            "memory usage: 27.5+ MB\n"
          ]
        }
      ]
    },
    {
      "cell_type": "code",
      "source": [
        "df_ab.isnull().sum()"
      ],
      "metadata": {
        "colab": {
          "base_uri": "https://localhost:8080/",
          "height": 303
        },
        "id": "A5TNiwC7Cv3D",
        "outputId": "0180a848-f852-44c1-a81b-973afacc9599"
      },
      "execution_count": 6,
      "outputs": [
        {
          "output_type": "execute_result",
          "data": {
            "text/plain": [
              "Unnamed: 0       0\n",
              "user id          0\n",
              "test group       0\n",
              "converted        0\n",
              "total ads        0\n",
              "most ads day     0\n",
              "most ads hour    0\n",
              "dtype: int64"
            ],
            "text/html": [
              "<div>\n",
              "<style scoped>\n",
              "    .dataframe tbody tr th:only-of-type {\n",
              "        vertical-align: middle;\n",
              "    }\n",
              "\n",
              "    .dataframe tbody tr th {\n",
              "        vertical-align: top;\n",
              "    }\n",
              "\n",
              "    .dataframe thead th {\n",
              "        text-align: right;\n",
              "    }\n",
              "</style>\n",
              "<table border=\"1\" class=\"dataframe\">\n",
              "  <thead>\n",
              "    <tr style=\"text-align: right;\">\n",
              "      <th></th>\n",
              "      <th>0</th>\n",
              "    </tr>\n",
              "  </thead>\n",
              "  <tbody>\n",
              "    <tr>\n",
              "      <th>Unnamed: 0</th>\n",
              "      <td>0</td>\n",
              "    </tr>\n",
              "    <tr>\n",
              "      <th>user id</th>\n",
              "      <td>0</td>\n",
              "    </tr>\n",
              "    <tr>\n",
              "      <th>test group</th>\n",
              "      <td>0</td>\n",
              "    </tr>\n",
              "    <tr>\n",
              "      <th>converted</th>\n",
              "      <td>0</td>\n",
              "    </tr>\n",
              "    <tr>\n",
              "      <th>total ads</th>\n",
              "      <td>0</td>\n",
              "    </tr>\n",
              "    <tr>\n",
              "      <th>most ads day</th>\n",
              "      <td>0</td>\n",
              "    </tr>\n",
              "    <tr>\n",
              "      <th>most ads hour</th>\n",
              "      <td>0</td>\n",
              "    </tr>\n",
              "  </tbody>\n",
              "</table>\n",
              "</div><br><label><b>dtype:</b> int64</label>"
            ]
          },
          "metadata": {},
          "execution_count": 6
        }
      ]
    },
    {
      "cell_type": "code",
      "source": [
        "df_ab['user id'].nunique()"
      ],
      "metadata": {
        "colab": {
          "base_uri": "https://localhost:8080/"
        },
        "id": "JliWmjBnDGYt",
        "outputId": "ae721bbe-8ec0-4c5a-f72f-24bd5d362a93"
      },
      "execution_count": 7,
      "outputs": [
        {
          "output_type": "execute_result",
          "data": {
            "text/plain": [
              "588101"
            ]
          },
          "metadata": {},
          "execution_count": 7
        }
      ]
    },
    {
      "cell_type": "markdown",
      "source": [
        "# **2. Power Analysis**\n",
        "**Mục đích:** tính toán cỡ mẫu tối thiểu cần thiết nhằm đảm bảo khả năng phát hiện hiệu ứng (effect size) với độ tin cậy nhất định, với mức ý nghĩa 𝛼 = 0.05\n",
        "\n",
        "Power Analysis thường được tiến hành trước khi chạy A/B Testing. Nhằm đảm bảo đủ số lượng người tham gia trong mỗi nhóm thử nghiệm và đối chứng, đồng thời hạn chế việc lãng phí tài nguyên.\n",
        "\n",
        "=> Số lượng mẫu đủ sẽ giúp tăng xác suất phát hiện sự khác biệt thực sự nếu tồn tại.\n",
        "\n",
        "\n",
        "---\n",
        "\n",
        "\n",
        "Trong trường hợp này, công ty đã chạy xong quảng cáo, Power Analysis sẽ được dùng để đánh giá liệu cỡ mẫu hiện tại có đủ lớn để phân tích kết quả chính xác hay không."
      ],
      "metadata": {
        "id": "pw_HgZsMGrxK"
      }
    },
    {
      "cell_type": "code",
      "source": [
        "# Kiểm tra cỡ mẫu hiện tại\n",
        "df_ab.groupby('test group')['user id'].count()"
      ],
      "metadata": {
        "colab": {
          "base_uri": "https://localhost:8080/",
          "height": 178
        },
        "id": "hqi9H_hlCdKh",
        "outputId": "0851c47a-1b96-4326-9d7a-e3a97718fb10"
      },
      "execution_count": 8,
      "outputs": [
        {
          "output_type": "execute_result",
          "data": {
            "text/plain": [
              "test group\n",
              "ad     564577\n",
              "psa     23524\n",
              "Name: user id, dtype: int64"
            ],
            "text/html": [
              "<div>\n",
              "<style scoped>\n",
              "    .dataframe tbody tr th:only-of-type {\n",
              "        vertical-align: middle;\n",
              "    }\n",
              "\n",
              "    .dataframe tbody tr th {\n",
              "        vertical-align: top;\n",
              "    }\n",
              "\n",
              "    .dataframe thead th {\n",
              "        text-align: right;\n",
              "    }\n",
              "</style>\n",
              "<table border=\"1\" class=\"dataframe\">\n",
              "  <thead>\n",
              "    <tr style=\"text-align: right;\">\n",
              "      <th></th>\n",
              "      <th>user id</th>\n",
              "    </tr>\n",
              "    <tr>\n",
              "      <th>test group</th>\n",
              "      <th></th>\n",
              "    </tr>\n",
              "  </thead>\n",
              "  <tbody>\n",
              "    <tr>\n",
              "      <th>ad</th>\n",
              "      <td>564577</td>\n",
              "    </tr>\n",
              "    <tr>\n",
              "      <th>psa</th>\n",
              "      <td>23524</td>\n",
              "    </tr>\n",
              "  </tbody>\n",
              "</table>\n",
              "</div><br><label><b>dtype:</b> int64</label>"
            ]
          },
          "metadata": {},
          "execution_count": 8
        }
      ]
    },
    {
      "cell_type": "markdown",
      "source": [
        "## 2.1. Effect Size (Cohen’s d Formula)\n",
        "Effect size = $ \\frac{p2 - p1}{S_{pool}} $.\n",
        "\n",
        "Trong đó:\n",
        "- p1 = tỷ lệ chuyển đổi của nhóm ad (exprimental group)\n",
        "- p2 = tỷ lệ chuyển đổi của nhóm psa (control group)\n",
        "- $ S_{pool} $ = Độ lệch chuẩn gộp (pooled standard deviation), tính bằng công thức\n",
        "  - $ S_{pool} = \\sqrt{\\frac{(n_1 - 1)s_1^2 + (n_2 - 1)s_2^2}{n_1 + n_2 - 2}} $\n",
        "    - n1 = số lượng sample nhóm ad\n",
        "    - n2 = số lượng sample nhóm psa\n",
        "    - s1 = độ lệch chuẩn nhóm ad\n",
        "    - s2 = độ lệch chuẩn nhóm psa"
      ],
      "metadata": {
        "id": "UH55PFFRbCk2"
      }
    },
    {
      "cell_type": "code",
      "source": [
        "group_ad = df_ab[df_ab['test group'] == 'ad']\n",
        "group_psa = df_ab[df_ab['test group'] == 'psa']\n",
        "\n",
        "cross_tab = pd.crosstab(df_ab['test group'], df_ab['converted'], normalize='index')\n",
        "\n",
        "p1 = cross_tab.loc['ad', True]      # Tỉ lệ chuyển đổi nhóm ad\n",
        "p2 = cross_tab.loc['psa', True]     # Tỉ lệ chuyển đổi nhóm psa\n",
        "n1 = group_ad['user id'].nunique()  # Số lượng user trong nhóm ad\n",
        "n2 = group_psa['user id'].nunique() # Số lượng user trong nhóm psa\n",
        "s1 = group_ad['converted'].std()    # Độ lệch chuẩn sample nhóm ad\n",
        "s2 = group_psa['converted'].std()   # Độ lệch chuẩn sample nhóm psa"
      ],
      "metadata": {
        "id": "vI69-mb3aP9S"
      },
      "execution_count": 9,
      "outputs": []
    },
    {
      "cell_type": "code",
      "source": [
        "# tính Độ lệch chuẩn gộp (pooled standard deviation)\n",
        "Sp = np.sqrt(((n1 - 1) * s1**2 + (n2 - 1) * s2**2) / (n1 + n2 - 2))\n",
        "\n",
        "# tính Effect Size\n",
        "effect_size = abs(p1 - p2) / Sp\n",
        "\n",
        "effect_size"
      ],
      "metadata": {
        "colab": {
          "base_uri": "https://localhost:8080/"
        },
        "id": "8exdisr1fa4-",
        "outputId": "10f34735-8552-467c-e7f1-a25360b0862a"
      },
      "execution_count": 10,
      "outputs": [
        {
          "output_type": "execute_result",
          "data": {
            "text/plain": [
              "0.04904561593068279"
            ]
          },
          "metadata": {},
          "execution_count": 10
        }
      ]
    },
    {
      "cell_type": "markdown",
      "source": [
        "**NOTES:**\n",
        "- Effect size = 0.049 nhỏ hơn rất nhiều so với ngưỡng \"Small\" (0.2) theo tiêu chuẩn Cohen's d.\n",
        "- Điều này cho thấy sự khác biệt giữa experimental group (nhóm thử nghiệm) và test group (nhóm đối chứng) là rất nhỏ và khó có thể cảm nhận được."
      ],
      "metadata": {
        "id": "WiTCUgWagzU9"
      }
    },
    {
      "cell_type": "markdown",
      "source": [
        "## 2.2. Mẫu tối thiểu với mỗi Sample (Required sample size)"
      ],
      "metadata": {
        "id": "9ugdxQnMkl-D"
      }
    },
    {
      "cell_type": "code",
      "source": [
        "import statsmodels.stats.api as sms\n",
        "\n",
        "alpha = 0.05       # level of significant\n",
        "power = 0.8        # Test Power (1- beta)\n",
        "\n",
        "# Khởi tạo đối tượng power analysis cho t-test hai mẫu\n",
        "PowerAnalysis = sms.NormalIndPower()\n",
        "\n",
        "# Tính số lượng mẫu cần thiết cho mỗi nhóm\n",
        "nobs1 = PowerAnalysis.solve_power(effect_size=effect_size, alpha=alpha, power=power, ratio=1.0, alternative='two-sided')\n",
        "\n",
        "size = int(np.ceil(nobs1))\n",
        "\n",
        "print(f\"Cỡ mẫu tối thiểu cho bài phân tích là: {size}\")"
      ],
      "metadata": {
        "colab": {
          "base_uri": "https://localhost:8080/"
        },
        "id": "fswj7O5aHKYh",
        "outputId": "3881afae-4d10-422f-bad2-30e4c73f1eba"
      },
      "execution_count": 11,
      "outputs": [
        {
          "output_type": "stream",
          "name": "stdout",
          "text": [
            "Cỡ mẫu tối thiểu cho bài phân tích là: 6526\n"
          ]
        }
      ]
    },
    {
      "cell_type": "markdown",
      "source": [
        "**NOTES:**\n",
        "- Sample size cần thiết tối thiểu là 6526\n",
        "- Bình thường, **bước tính Power Analysis là trước khi nghiên cứu bắt đầu**. Do ở đây đã thu thập số liệu rồi nên để tránh lãng phí tài nguyên (do công ty đã thu thập được 23,524 mẫu với nhóm psa)\n",
        "\n",
        "**=> Chọn cỡ mẫu là 23,000 cho cả 2 nhóm**"
      ],
      "metadata": {
        "id": "gCt72xpuRzTR"
      }
    },
    {
      "cell_type": "code",
      "source": [
        "min_size = 23000\n",
        "\n",
        "# Random mỗi nhóm 23000 dòng\n",
        "df_ad_sample = df_ab[df_ab['test group'] == 'ad'].sample(n=min_size, random_state=42)\n",
        "df_psa_sample = df_ab[df_ab['test group'] == 'psa'].sample(n=min_size, random_state=42)\n",
        "\n",
        "# Kết hợp các dòng mẫu lại với nhau\n",
        "df_ab_test = pd.concat([df_ad_sample, df_psa_sample]).reset_index()\n",
        "\n",
        "df_ab_test = df_ab_test.drop(columns=['index', 'Unnamed: 0'], errors='ignore')"
      ],
      "metadata": {
        "id": "Kz49KUExNBFG"
      },
      "execution_count": 12,
      "outputs": []
    },
    {
      "cell_type": "code",
      "source": [
        "# VISUALIZE\n",
        "\n",
        "# Tạo Dataframe tính theo 2 nhóm ad - psa\n",
        "data = df_ab_test.groupby(['test group', 'converted'])['user id'].count().unstack()\n",
        "\n",
        "# Tạo biểu đồ cột\n",
        "ax = data.plot(kind='bar', figsize=(6, 4), color=['#1f77b4', '#ff7f0e'])\n",
        "\n",
        "plt.xlabel('Nhóm')\n",
        "plt.ylabel('Số lượng người')\n",
        "plt.legend(title='Converted', labels=['False', 'True'])\n",
        "plt.xticks(rotation=0)\n",
        "\n",
        "# Add data labels\n",
        "for container in ax.containers:\n",
        "    ax.bar_label(container, fmt='%d', label_type='edge')\n",
        "\n",
        "# Show plot\n",
        "plt.tight_layout()\n",
        "plt.show()"
      ],
      "metadata": {
        "colab": {
          "base_uri": "https://localhost:8080/",
          "height": 407
        },
        "id": "wxFrp_GmYVph",
        "outputId": "2523d792-8291-4c02-dc53-aa0696307385"
      },
      "execution_count": 13,
      "outputs": [
        {
          "output_type": "display_data",
          "data": {
            "text/plain": [
              "<Figure size 600x400 with 1 Axes>"
            ],
            "image/png": "[encoded data removed]"
          },
          "metadata": {}
        }
      ]
    },
    {
      "cell_type": "markdown",
      "source": [
        "# **3. Chi-Square Test for Independence**\n",
        "- **Mục đích:** Kiểm tra xem việc chạy ads (quảng cáo) có mối liên hệ với tỉ lệ chuyển đổi (conversion rate) không?\n",
        "- Để kiểm tra, em sẽ xét độ tương quan giữa:\n",
        "  - Cột \"converted\" và \"most ads day\"\n",
        "  - Cột \"converted\" và \"most ads hour\""
      ],
      "metadata": {
        "id": "U73DD1bfce--"
      }
    },
    {
      "cell_type": "markdown",
      "source": [
        "## 3.1. Most ads day"
      ],
      "metadata": {
        "id": "YspM7DhPfX5o"
      }
    },
    {
      "cell_type": "markdown",
      "source": [
        "\n",
        "**Mục đích:** Muốn kiểm tra xem ngày chạy nhiều quảng cáo nhất trong tuần có tác động đến tỷ lệ chuyển đổi không?\n",
        "- $ H_{0} $: Cột \"converted\" và \"most ads day\" phụ thuộc nhau\n",
        "- $ H_{A} $: Cột \"converted\" và \"most ads day\" không phụ thuộc nhau"
      ],
      "metadata": {
        "id": "C8n_YpvxgUyj"
      }
    },
    {
      "cell_type": "code",
      "source": [
        "from scipy.stats import chi2_contingency\n",
        "\n",
        "# contingency table\n",
        "contingency_day = pd.crosstab(df_ab_test['converted'], df_ab_test['most ads day'])\n",
        "\n",
        "plt.figure(figsize=(10, 4))\n",
        "sns.heatmap(contingency_day, annot=True, fmt=\"d\", cmap=\"coolwarm\", cbar=True)\n",
        "plt.title(\"Contingency Table of 'Converted' and 'Most Ads Day'\")\n",
        "plt.xlabel(\"Most Ads Day\")\n",
        "plt.ylabel(\"Converted\")\n",
        "plt.show()\n",
        "\n",
        "# Chi-square test\n",
        "chi_day, p_day, df_day, expected = chi2_contingency(contingency_day)\n",
        "\n",
        "print(f\"\\nChi-squared test statistic: {chi_day}\")\n",
        "print(f\"P-value: {p_day}\")\n",
        "print(f\"Degrees of freedom: {df_day}\")\n",
        "\n",
        "# Kết luận\n",
        "alpha = 0.05\n",
        "\n",
        "if p_day < alpha:\n",
        "        print(\"\\n=> Loại bỏ giả thiết H0. Có đủ bằng chứng để nhận định rằng có mối liên hệ giữa cột converted và most ads day\")\n",
        "else:\n",
        "        print(\"\\n=> Không đủ bằng chứng để loại bỏ giả thiết H0.\")"
      ],
      "metadata": {
        "colab": {
          "base_uri": "https://localhost:8080/",
          "height": 519
        },
        "id": "5Fy8BzYNceFV",
        "outputId": "8923c6bc-b377-4524-c46f-ee5c565d5718"
      },
      "execution_count": 14,
      "outputs": [
        {
          "output_type": "display_data",
          "data": {
            "text/plain": [
              "<Figure size 1000x400 with 2 Axes>"
            ],
            "image/png": "[encoded data removed]"
          },
          "metadata": {}
        },
        {
          "output_type": "stream",
          "name": "stdout",
          "text": [
            "\n",
            "Chi-squared test statistic: 22.07895637710061\n",
            "P-value: 0.0011716199872981233\n",
            "Degrees of freedom: 6\n",
            "\n",
            "=> Loại bỏ giả thiết H0. Có đủ bằng chứng để nhận định rằng có mối liên hệ giữa cột converted và most ads day\n"
          ]
        }
      ]
    },
    {
      "cell_type": "markdown",
      "source": [
        "## 3.2. Most ads hour"
      ],
      "metadata": {
        "id": "bDEbexWpx7TH"
      }
    },
    {
      "cell_type": "markdown",
      "source": [
        "\n",
        "**Mục đích:** Muốn kiểm tra xem giờ chạy nhiều quảng cáo nhất trong ngày có tác động đến tỷ lệ chuyển đổi không?\n",
        "- $ H_{0} $: Cột \"converted\" và \"most ads hour\" phụ thuộc nhau\n",
        "- $ H_{A} $: Cột \"converted\" và \"most ads hour\" không phụ thuộc nhau"
      ],
      "metadata": {
        "id": "Ax5dRL_CtjS_"
      }
    },
    {
      "cell_type": "code",
      "source": [
        "# contingency table\n",
        "contingency_hour = pd.crosstab(df_ab_test['converted'], df_ab_test['most ads hour'])\n",
        "\n",
        "plt.figure(figsize=(20, 4))\n",
        "sns.heatmap(contingency_hour, annot=True, fmt=\"d\", cmap=\"coolwarm\", cbar=True)\n",
        "plt.title(\"Contingency Table of 'Converted' and 'Most Ads Day'\")\n",
        "plt.xlabel(\"Most Ads Day\")\n",
        "plt.ylabel(\"Converted\")\n",
        "plt.show()\n",
        "\n",
        "# Chi-square test\n",
        "chi_hour, p_hour, df_hour, expected = chi2_contingency(contingency_hour)\n",
        "\n",
        "print(f\"\\nChi-squared test statistic: {chi_hour}\")\n",
        "print(f\"P-value: {p_hour}\")\n",
        "print(f\"Degrees of freedom: {df_hour}\")\n",
        "\n",
        "# Kết luận\n",
        "alpha = 0.05\n",
        "\n",
        "if p_hour < alpha:\n",
        "        print(\"\\n=> Loại bỏ giả thiết H0. Có đủ bằng chứng để nhận định rằng có mối liên hệ giữa cột converted và most ads hour\")\n",
        "else:\n",
        "        print(\"\\n=> Không đủ bằng chứng để loại bỏ giả thiết H0.\")"
      ],
      "metadata": {
        "colab": {
          "base_uri": "https://localhost:8080/",
          "height": 476
        },
        "id": "ss-DGw9lvHik",
        "outputId": "0dadebbe-5295-4e3b-f725-3ccdbc1cc50f"
      },
      "execution_count": 15,
      "outputs": [
        {
          "output_type": "display_data",
          "data": {
            "text/plain": [
              "<Figure size 2000x400 with 2 Axes>"
            ],
            "image/png": "[encoded data removed]"
          },
          "metadata": {}
        },
        {
          "output_type": "stream",
          "name": "stdout",
          "text": [
            "\n",
            "Chi-squared test statistic: 56.12570293427687\n",
            "P-value: 0.00013592856482938108\n",
            "Degrees of freedom: 23\n",
            "\n",
            "=> Loại bỏ giả thiết H0. Có đủ bằng chứng để nhận định rằng có mối liên hệ giữa cột converted và most ads hour\n"
          ]
        }
      ]
    },
    {
      "cell_type": "markdown",
      "source": [
        "## Kết luận:\n",
        "**Most ads day**\n",
        "- **Chi-Square test statistic** = 22.078\n",
        "- **P-value** = 0.00117\n",
        "\n",
        "=> P-value < 0.05 cho thấy rằng **có mối liên hệ về mặt thống kê** giữa ngày người dùng xem nhiều quảng cáo nhất (most ads day) và trạng thái chuyển đổi của họ (converted)\n",
        "\n",
        "\n",
        "**Most ads hour**\n",
        "- **Chi-Square test statistic** = 56.125\n",
        "- **P-value** = 0.00013\n",
        "\n",
        "=> P-value < 0.05 cho thấy rằng **có mối liên hệ về mặt thống kê** giữa giờ trong ngày người dùng xem nhiều quảng cáo nhất (most ads hour) và trạng thái chuyển đổi của họ (converted).\n",
        "\n",
        "\n",
        "---\n",
        "\n",
        "\n",
        "Ngày và giờ mà người dùng nhìn thấy nhiều quảng cáo nhất có ảnh hưởng đáng kể đến việc họ có chuyển đổi\n",
        "- Tỉ lệ chuyển đổi cao nhất vào đầu tuần (Thứ Hai, Ba) - và giảm dần theo các ngày trong tuần và tăng lại vào Chủ nhật.\n",
        "- Tỉ lệ chuyển đổi tăng dần từ buổi trưa đến chiều vào cao nhất vào 15h-16h"
      ],
      "metadata": {
        "id": "K_mbQoGgOhcE"
      }
    },
    {
      "cell_type": "code",
      "source": [
        "# Sắp xếp lại cột theo thứ tự: Thứ Hai -> Chủ nhật\n",
        "days_order = ['Monday', 'Tuesday', 'Wednesday', 'Thursday', 'Friday', 'Saturday', 'Sunday']\n",
        "contingency_day = contingency_day[days_order]\n",
        "\n",
        "total_people_day = contingency_day.loc[True] + contingency_day.loc[False]   # Tổng số người mỗi ngày\n",
        "conversion_rate_day = contingency_day.loc[True] / total_people_day # Tỉ lệ chuyển đổi\n",
        "\n",
        "# Tạo biểu đồ\n",
        "fig, ax1 = plt.subplots(figsize=(8, 5))\n",
        "\n",
        "# Biểu đồ cột: Tổng số người\n",
        "ax1.bar(contingency_day.columns, total_people_day, color='skyblue', edgecolor='black', label=\"Total People\")\n",
        "\n",
        "# Biểu đồ đường: Tỷ lệ chuyển đổi\n",
        "ax2 = ax1.twinx()\n",
        "ax2.plot(contingency_day.columns, conversion_rate_day, color='red', marker='o', label=\"Conversion Rate\", linewidth=2)\n",
        "\n",
        "# Đặt tiêu đề và nhãn trục\n",
        "ax1.set_title(\"Tổng người dùng và tỉ lệ chuyển đổi hàng ngày\")\n",
        "ax1.set_xlabel(\"Ngày mà ads được chiếu nhiều nhất\")\n",
        "ax1.set_ylabel(\"TỔNG NGƯỜI\", color='skyblue')\n",
        "ax2.set_ylabel(\"TỈ LỆ CHUYỂN ĐỔI\", color='red')\n",
        "\n",
        "ax1.set_ylim(0, 10000)  # Giới hạn trục y cho tổng số người\n",
        "ax2.set_ylim(0, 0.05)     # Giới hạn trục y cho tỷ lệ chuyển đổi\n",
        "\n",
        "plt.xticks(rotation=0)\n",
        "plt.show()"
      ],
      "metadata": {
        "colab": {
          "base_uri": "https://localhost:8080/",
          "height": 491
        },
        "id": "oIFPUet0JQb0",
        "outputId": "676ec338-a46d-4e5f-b5d0-9d3fcf2b1bd2"
      },
      "execution_count": 22,
      "outputs": [
        {
          "output_type": "display_data",
          "data": {
            "text/plain": [
              "<Figure size 800x500 with 2 Axes>"
            ],
            "image/png": "[encoded data removed]"
          },
          "metadata": {}
        }
      ]
    },
    {
      "cell_type": "code",
      "source": [
        "total_people_hour = contingency_hour.loc[True] + contingency_hour.loc[False]   # Tổng số người mỗi ngày\n",
        "conversion_rate_hour = contingency_hour.loc[True] / total_people_hour # Tỉ lệ chuyển đổi\n",
        "\n",
        "# Tạo biểu đồ\n",
        "fig, ax1 = plt.subplots(figsize=(8, 5))\n",
        "\n",
        "# Biểu đồ cột: Tổng số người\n",
        "ax1.bar(contingency_hour.columns, total_people_hour, color='skyblue', edgecolor='black', label=\"Total People\")\n",
        "\n",
        "# Biểu đồ đường: Tỷ lệ chuyển đổi\n",
        "ax2 = ax1.twinx()\n",
        "ax2.plot(contingency_hour.columns, conversion_rate_hour, color='red', marker='o', label=\"Conversion Rate\", linewidth=2)\n",
        "\n",
        "# Đặt tiêu đề và nhãn trục\n",
        "ax1.set_title(\"Tổng người dùng và tỉ lệ chuyển đổi hàng giờ\")\n",
        "ax1.set_xlabel(\"Giờ mà ads được chiếu nhiều nhất\")\n",
        "ax1.set_ylabel(\"TỔNG NGƯỜI\", color='skyblue')\n",
        "ax2.set_ylabel(\"TỈ LỆ CHUYỂN ĐỔI\", color='red')\n",
        "\n",
        "ax1.set_ylim(0, 10000)  # Giới hạn trục y cho tổng số người\n",
        "ax2.set_ylim(0, 0.05)     # Giới hạn trục y cho tỷ lệ chuyển đổi\n",
        "\n",
        "plt.xticks(range(0, 24), rotation=0)\n",
        "plt.show()"
      ],
      "metadata": {
        "colab": {
          "base_uri": "https://localhost:8080/",
          "height": 490
        },
        "id": "eufT8nnrPUB3",
        "outputId": "1e9b1b69-7955-406e-8fab-588c0b3faaf5"
      },
      "execution_count": 23,
      "outputs": [
        {
          "output_type": "display_data",
          "data": {
            "text/plain": [
              "<Figure size 800x500 with 2 Axes>"
            ],
            "image/png": "[encoded data removed]"
          },
          "metadata": {}
        }
      ]
    },
    {
      "cell_type": "markdown",
      "source": [
        "# **4. T-Test: so sánh trung bình 2 tổng thể**\n",
        "Để kiểm tra giả thuyết so sánh trung bình của hai tổng thể, có hai loại kiểm định t-test phổ biến:\n",
        "- **Independent T-Test** (giả định rằng phương sai của hai tổng thể bằng nhau)\n",
        "- **Welch’s T-Test** (giả định rằng phương sai của hai tổng thể khác nhau)\n",
        "\n",
        "Để xác định phương sai của hai tổng thể có bằng nhau hay không, ta sử dụng Levene's Test.\n",
        "- Nếu Levene's Test cho kết quả không có sự khác biệt phương sai (p-value > 0.05): Chọn Independent T-Test.\n",
        "- Nếu Levene's Test cho thấy phương sai khác nhau (p-value ≤ 0.05): Chọn Welch's T-Test."
      ],
      "metadata": {
        "id": "OEBoCS_Y8Cwu"
      }
    },
    {
      "cell_type": "markdown",
      "source": [
        "## Kiểm tra giả thuyết"
      ],
      "metadata": {
        "id": "XZTWS6Ms15dH"
      }
    },
    {
      "cell_type": "markdown",
      "source": [
        "### Phương sai tổng thể (Levene's test)"
      ],
      "metadata": {
        "id": "A9d5zhem79rJ"
      }
    },
    {
      "cell_type": "markdown",
      "source": [
        "**Mục đích:** Muốn kiểm tra xem phương sai tổng thể có khác nhau hay không\n",
        "- $ H_{0}: \\sigma^2_{1} = \\sigma^2_{2} $\n",
        "- $ H_{A}: \\sigma^2_{1} \\neq \\sigma^2_{2} $\n",
        "  - $ \\sigma^2_{1} $ = Phương sai converted (tổng thể)\n",
        "  - $ \\sigma^2_{2} $ = Phương sai not-converted (tổng thể)"
      ],
      "metadata": {
        "id": "0NwqQWzXAaJs"
      }
    },
    {
      "cell_type": "code",
      "source": [
        "from scipy.stats import levene\n",
        "\n",
        "# tách dữ liệu\n",
        "groupConverted = df_ab_test[df_ab_test['converted'] == True]['total ads']\n",
        "groupNOTConverted = df_ab_test[df_ab_test['converted'] == False]['total ads']\n",
        "\n",
        "# Levene's test\n",
        "statistic, p_value = levene(groupConverted, groupNOTConverted)\n",
        "\n",
        "print(\"Levene's test statistic:\", statistic)\n",
        "print(\"p-value:\", p_value)\n",
        "\n",
        "# Kết luận\n",
        "alpha = 0.05\n",
        "if p_value < alpha:\n",
        "    print(\"Bác bỏ giả thuyết H0: Phương sai giữa các nhóm KHÔNG bằng nhau.\")\n",
        "    print(\"\\n=> Kết luận: Chọn Welch's T-Test vì phương sai khác nhau (p-value ≤ 0.05).\")\n",
        "else:\n",
        "    print(\"Không bác bỏ giả thuyết H0: Phương sai giữa các nhóm BẰNG nhau.\")\n",
        "    print(\"\\n=> Kết luận: Chọn Independent T-Test vì không có sự khác biệt phương sai (p-value > 0.05).\")"
      ],
      "metadata": {
        "colab": {
          "base_uri": "https://localhost:8080/"
        },
        "id": "3WvLkVth4sgN",
        "outputId": "80083a08-18fc-4474-e12b-c739b344fd77"
      },
      "execution_count": 18,
      "outputs": [
        {
          "output_type": "stream",
          "name": "stdout",
          "text": [
            "Levene's test statistic: 780.3031707448639\n",
            "p-value: 2.750154486801534e-170\n",
            "Bác bỏ giả thuyết H0: Phương sai giữa các nhóm KHÔNG bằng nhau.\n",
            "\n",
            "=> Kết luận: Chọn Welch's T-Test vì phương sai khác nhau (p-value ≤ 0.05).\n"
          ]
        }
      ]
    },
    {
      "cell_type": "markdown",
      "source": [
        "### Tính chuẩn (Normality)"
      ],
      "metadata": {
        "id": "gwrA8fO34rcP"
      }
    },
    {
      "cell_type": "code",
      "source": [
        "n_Converted = groupConverted.count()  # Số mẫu trong nhóm converted\n",
        "n_NOTConverted = groupNOTConverted.count()  # Số mẫu trong nhóm notconverted\n",
        "\n",
        "# Kiểm tra kích thước mẫu\n",
        "if n_Converted > 30 and n_NOTConverted > 30:\n",
        "    print(\"Cả hai nhóm đều có kích thước mẫu > 30. Áp dụng Định lý giới hạn trung tâm, không cần kiểm tra phân phối chuẩn.\")\n",
        "else:\n",
        "    # Kiểm tra Shapiro-Wilk nếu có nhóm nào có mẫu < 30\n",
        "    if n_Converted < 30:\n",
        "        stat_Converted, p_Converted = stats.shapiro(groupConverted)\n",
        "        print(f\"Shapiro-Wilk test for groupConverted: Statistics = {stat_Converted:.3f}, p-value = {p_Converted:.3f}\")\n",
        "\n",
        "    if n_NOTConverted < 30:\n",
        "        stat_NOTConverted, p_NOTConverted = stats.shapiro(groupNOTConverted)\n",
        "        print(f\"Shapiro-Wilk test for groupNOTConverted: Statistics = {stat_NOTConverted:.3f}, p-value = {p_NOTConverted:.3f}\")"
      ],
      "metadata": {
        "colab": {
          "base_uri": "https://localhost:8080/"
        },
        "id": "ezDOA521wpJ3",
        "outputId": "a3771d84-f30a-44e4-a314-6c4a663ee0c7"
      },
      "execution_count": 33,
      "outputs": [
        {
          "output_type": "stream",
          "name": "stdout",
          "text": [
            "Cả hai nhóm đều có kích thước mẫu > 30. Áp dụng Định lý giới hạn trung tâm, không cần kiểm tra phân phối chuẩn.\n"
          ]
        }
      ]
    },
    {
      "cell_type": "markdown",
      "source": [
        "### Tính độc lập (Independence)\n",
        "- Phân bổ vào hai nhóm là ngẫu nhiên\n",
        "- Không có thành viên nào xuất hiện trong cả hai nhóm (nhóm converted và nhóm notconverted)\n",
        "\n",
        "**=> 2 mẫu (sample) độc lập với nhau**"
      ],
      "metadata": {
        "id": "-BWQiHtPWSfM"
      }
    },
    {
      "cell_type": "markdown",
      "source": [
        "## **Welch’s T-Test**\n",
        "**Giả thuyết:**\n",
        "  * Mẫu độc lập với nhau\n",
        "  * Phân phối mẫu là phân phối chuẩn.\n",
        "  * Phương sai giữa 2 nhóm tổng thể là khác nhau\n",
        "\n",
        "**Mục đích:** Kiểm tra xem chạy ads nhiều có đồng nghĩa là tỉ lệ chuyển đổi cao không => so sánh lượng ads chạy trung bình giữa 2 nhóm converted và not converted\n",
        "- $ H_{0} : \\mu_{converted} = \\mu_{not-converted} $\n",
        "- $ H_{A} : \\mu_{converted} \\neq \\mu_{not-converted} $\n",
        "  - $ \\mu_{converted} $ = số lượng ads với nhóm converted\n",
        "  - $ \\mu_{not-converted} $ = số lượng ads với nhóm not-converted\n"
      ],
      "metadata": {
        "id": "bJXQY7vJCmK9"
      }
    },
    {
      "cell_type": "code",
      "source": [
        "from scipy.stats import ttest_ind\n",
        "\n",
        "# groupConverted = df_ab_test[df_ab_test['converted'] == True]['total ads']\n",
        "# groupNOTConverted = df_ab_test[df_ab_test['converted'] == False]['total ads']\n",
        "\n",
        "# Welch’s T-Test\n",
        "t_statistic, p_value = ttest_ind(groupConverted, groupNOTConverted, equal_var=False)\n",
        "\n",
        "print(f\"t-test statistic: {t_statistic}\")\n",
        "print(\"p-value:\", p_value)\n",
        "\n",
        "# Kết luận\n",
        "alpha = 0.05\n",
        "if p_value < alpha:\n",
        "        print(\"\\n=> Loại bỏ giả thiết H0. Có đủ bằng chứng để nhận định rằng số lượng ads giữa 2 nhóm là khác nhau\")\n",
        "else:\n",
        "        print(\"\\n=> Không đủ bằng chứng để loại bỏ giả thiết H0.\")"
      ],
      "metadata": {
        "colab": {
          "base_uri": "https://localhost:8080/"
        },
        "id": "oD1zt_qNFTMU",
        "outputId": "11b62df3-773b-434a-ff0f-634562804acf"
      },
      "execution_count": 19,
      "outputs": [
        {
          "output_type": "stream",
          "name": "stdout",
          "text": [
            "t-test statistic: 22.376587661949856\n",
            "p-value: 6.580117929321791e-91\n",
            "\n",
            "=> Loại bỏ giả thiết H0. Có đủ bằng chứng để nhận định rằng số lượng ads giữa 2 nhóm là khác nhau\n"
          ]
        }
      ]
    },
    {
      "cell_type": "markdown",
      "source": [
        "## Kết luận:\n",
        "**Levene's Test**\n",
        "- **T test statistic** = 780.30\n",
        "- **P-value** = 2.75 x $10^{-170}$\n",
        "\n",
        "=> P-value < 0.05 nên có thể nhận định rằng phương sai giữa 2 nhóm tổng thể KHÔNG bằng nhau. Nên chọn Welch's T-Test\n",
        "\n",
        "**Welch's T-Test**\n",
        "- **T test statistic** = 22.37\n",
        "- **P-value** = 6.58 x $10^{-91}$\n",
        "  - P-value = 6.58 x $10^{-91}$  có nghĩa là xác suất để sự khác biệt xảy ra do ngẫu nhiên là rất rất thấp, chỉ (6.58 x $10^{-89}$)%.\n",
        "\n",
        "=> P-value < 0.05 cho thấy rằng **có sự khác biệt về mặt thống kê** giữa lượng quảng cáo (ads) mà người có trạng thái chuyển đổi (converted) so với người không\n",
        "\n",
        "=> T test statistic > 0. Nên có thể nhận định rằng nhóm (mẫu) người có trạng thái chuyển đổi xem nhiều quảng cáo hơn (về mặt thống kê) so với nhóm (mẫu) không chuyển đổi và Sự khác biệt này không phải do ngẫu nhiên mà có."
      ],
      "metadata": {
        "id": "2nQRUMUBOcaM"
      }
    },
    {
      "cell_type": "markdown",
      "source": [
        "# **5. A/B Testing: so sánh tỷ trọng 2 tổng thể**"
      ],
      "metadata": {
        "id": "g8Y7ga3UOz-8"
      }
    },
    {
      "cell_type": "markdown",
      "source": [
        "## Kiểm tra giả thuyết\n",
        "**Giả thuyết:**\n",
        "  * Mẫu được chọn ngẫu nhiên từ tổng thể\n",
        "  * Mẫu độc lập với nhau\n",
        "  * Có ít nhất 5 thành công và ít nhất 5 thất bại trong mỗi nhóm\n",
        "    * **Thành công (Success):** là những người trong mỗi nhóm (ad và psa) đã thực hiện hành động chuyển đổi.\n",
        "    * **Thất bại (Failure):** Là những người không thực hiện hành động chuyển đổi đó."
      ],
      "metadata": {
        "id": "iKDWdyOv3HNE"
      }
    },
    {
      "cell_type": "markdown",
      "source": [
        "**Có ít nhất 5 thành công và ít nhất 5 thất bại trong mỗi nhóm**"
      ],
      "metadata": {
        "id": "CaC_oL35B0Sp"
      }
    },
    {
      "cell_type": "code",
      "source": [
        "contingency_ab = pd.crosstab(df_ab_test['test group'], df_ab_test['converted'], margins = True)\n",
        "\n",
        "# chia nhóm để chạy test\n",
        "converted_ad = contingency_ab.loc['ad', True]\n",
        "all_ad = contingency_ab.loc['ad', 'All']\n",
        "\n",
        "converted_psa = contingency_ab.loc['psa', True]\n",
        "all_psa = contingency_ab.loc['psa', 'All']\n",
        "\n",
        "if converted_ad >= 5 and (all_ad - converted_ad) >= 5 and converted_psa >= 5 and (all_psa - converted_psa) >= 5:\n",
        "    print(\"=> Điều kiện được thỏa mãn: Có ít nhất 5 thành công và 5 thất bại trong mỗi nhóm.\")\n",
        "else:\n",
        "    print(\"=> Điều kiện không thỏa mãn: Không đủ dữ liệu để thực hiện kiểm định.\")"
      ],
      "metadata": {
        "colab": {
          "base_uri": "https://localhost:8080/"
        },
        "id": "PLYfGgru3GXi",
        "outputId": "96745994-3c13-4af8-b4d0-0848f3e9f9a7"
      },
      "execution_count": 34,
      "outputs": [
        {
          "output_type": "stream",
          "name": "stdout",
          "text": [
            "Điều kiện được thỏa mãn: Có ít nhất 5 thành công và 5 thất bại trong mỗi nhóm.\n"
          ]
        }
      ]
    },
    {
      "cell_type": "markdown",
      "source": [
        "**Tính ngẫu nhiên và độc lập**\n",
        "- Phân bổ vào hai nhóm là ngẫu nhiên\n",
        "- Không có thành viên nào xuất hiện trong cả hai nhóm (nhóm ad và nhóm psa)\n",
        "\n",
        "**=> 2 mẫu (sample) độc lập với nhau và được bốc ngẫu nhiên**"
      ],
      "metadata": {
        "id": "Q88dLJ99BXld"
      }
    },
    {
      "cell_type": "markdown",
      "source": [
        "## **A/B Testing**\n",
        "**Mục đích**: Kiểm tra xem tỉ lệ chuyển đổi của 2 nhóm tổng thể có bằng nhau không?\n",
        "- $ H_{0} : p_{ad} = p_{psa} $\n",
        "- $ H_{A} : p_{ad} \\neq p_{psa} $\n",
        "  - $ p_{ad} $ = tỉ lệ chuyển đổi nhóm ad (experimental group)\n",
        "  - $ p_{psa} $ = tỉ lệ chuyển đổi nhóm psa (control group)\n",
        "\n",
        "Notes:\n",
        "  - $\\alpha$ = 0.05 (Tỷ lệ xảy ra Type I Errors - Ý nghĩa thống kê)\n",
        "  - $\\beta$ = 0.2 (Tỷ lệ xảy ra Type II Errors)"
      ],
      "metadata": {
        "id": "MiJVA8aD3G47"
      }
    },
    {
      "cell_type": "code",
      "source": [
        "import statsmodels.api as sm\n",
        "\n",
        "# z proportion test\n",
        "z_stat, p_value = sm.stats.proportions_ztest(\n",
        "    [converted_ad, converted_psa],\n",
        "    [all_ad, all_psa],\n",
        "    alternative='two-sided'\n",
        ")\n",
        "\n",
        "# Kết luận\n",
        "print(contingency_ab)\n",
        "print(f\"\\nZ-statistic: {z_stat}\")\n",
        "print(f\"P-value: {p_value}\")\n",
        "\n",
        "alpha = 0.05\n",
        "if p_value < alpha:\n",
        "        print(\"\\n=> Loại bỏ giả thiết H0. Có đủ bằng chứng để nhận định rằng tỉ lệ chuyển đổi giữa 2 nhóm là khác nhau\")\n",
        "else:\n",
        "        print(\"\\n=> Không đủ bằng chứng để loại bỏ giả thiết H0.\")"
      ],
      "metadata": {
        "colab": {
          "base_uri": "https://localhost:8080/"
        },
        "id": "aRFiSiM0OzS9",
        "outputId": "850b6df0-b7be-4265-85a1-2a252810bc74"
      },
      "execution_count": 35,
      "outputs": [
        {
          "output_type": "stream",
          "name": "stdout",
          "text": [
            "converted   False  True    All\n",
            "test group                    \n",
            "ad          22377   623  23000\n",
            "psa         22588   412  23000\n",
            "All         44965  1035  46000\n",
            "\n",
            "Z-statistic: 6.633670521700936\n",
            "P-value: 3.274402945588342e-11\n",
            "\n",
            "=> Loại bỏ giả thiết H0. Có đủ bằng chứng để nhận định rằng tỉ lệ chuyển đổi giữa 2 nhóm là khác nhau\n"
          ]
        }
      ]
    },
    {
      "cell_type": "markdown",
      "source": [
        "## Kết luận:\n",
        "- **Z test statistic** = 6.63\n",
        "- **P-value** = 3.27 x $10^{-11}$\n",
        "  - P-value = 3.27 x $10^{-11}$ có nghĩa là xác suất để sự khác biệt xảy ra do ngẫu nhiên là rất rất thấp, chỉ (3.27 x $10^{-9}$)%.\n",
        "\n",
        "=> P-value < 0.05 cho thấy rằng có sự khác biệt về mặt thống kê về tỉ lệ chuyển đổi giữa nhóm xem quảng cáo (nhóm thử nghiệm) và nhóm xem Quảng Cáo Dịch Vụ Công Cộng (nhóm đối chứng).\n",
        "\n",
        "=> Z test statistic > 0. Nên có thể nhận định rằng tỉ lệ chuyển đổi giữa nhóm (mẫu) xem quảng cáo LỚN HƠN nhóm (mẫu) xem Quảng Cáo Dịch Vụ Công Cộng. **Sự khác biệt này không phải do ngẫu nhiên mà có, mà có thể là kết quả thực sự của việc chạy quảng cáo.**"
      ],
      "metadata": {
        "id": "L7mlUNGd-fje"
      }
    }
  ]
}